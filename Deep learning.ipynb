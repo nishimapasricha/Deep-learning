{
 "cells": [
  {
   "cell_type": "markdown",
   "metadata": {},
   "source": [
    "### Imports"
   ]
  },
  {
   "cell_type": "code",
   "execution_count": 38,
   "metadata": {},
   "outputs": [],
   "source": [
    "import pickle \n",
    "import numpy as np\n",
    "import matplotlib.pyplot as plt\n",
    "from keras.models import Sequential\n",
    "from keras.layers import Dense, Dropout, Flatten, Activation\n",
    "from keras.layers import Conv2D, MaxPool2D, Dense, Activation, Flatten\n",
    "from keras import backend as K"
   ]
  },
  {
   "cell_type": "markdown",
   "metadata": {},
   "source": [
    "### Load data from pickle"
   ]
  },
  {
   "cell_type": "code",
   "execution_count": 39,
   "metadata": {},
   "outputs": [],
   "source": [
    "with open('trainX.pickle', 'rb') as f:\n",
    "    trainX = list(pickle.load(f))\n",
    "    trainX=np.array(trainX)\n",
    "\n",
    "with open('trainY.pickle', 'rb') as f:\n",
    "    trainY = list(pickle.load(f))\n",
    "    trainY=np.array(trainY)\n",
    "with open('testX.pickle', 'rb') as f:\n",
    "    testx = list(pickle.load(f))\n",
    "    testx=np.array(testx)"
   ]
  },
  {
   "cell_type": "code",
   "execution_count": 40,
   "metadata": {},
   "outputs": [
    {
     "data": {
      "text/plain": [
       "<function matplotlib.pyplot.show(*args, **kw)>"
      ]
     },
     "execution_count": 40,
     "metadata": {},
     "output_type": "execute_result"
    },
    {
     "data": {
      "image/png": "[encoded data removed]",
      "text/plain": [
       "<Figure size 432x288 with 1 Axes>"
      ]
     },
     "metadata": {
      "needs_background": "light"
     },
     "output_type": "display_data"
    }
   ],
   "source": [
    "plt.imshow(testx[0])\n",
    "plt.show"
   ]
  },
  {
   "cell_type": "markdown",
   "metadata": {},
   "source": [
    "### Reshape and spliting of train and test set"
   ]
  },
  {
   "cell_type": "code",
   "execution_count": 41,
   "metadata": {},
   "outputs": [],
   "source": [
    "from keras.utils.np_utils import to_categorical\n",
    "trainX=trainX.reshape(trainX.shape[0],trainX.shape[1],trainX.shape[2],1)\n",
    "trainX=trainX/255\n",
    "testx=testx.reshape(testx.shape[0],testx.shape[1],testx.shape[2],1)\n",
    "testx=testx/255\n",
    "trainY = to_categorical(trainY)\n",
    "from sklearn.model_selection import train_test_split\n",
    "X_train, X_test, y_train, y_test = train_test_split(trainX, trainY, test_size=0.2)"
   ]
  },
  {
   "cell_type": "markdown",
   "metadata": {},
   "source": [
    "### Model "
   ]
  },
  {
   "cell_type": "code",
   "execution_count": 42,
   "metadata": {},
   "outputs": [
    {
     "name": "stdout",
     "output_type": "stream",
     "text": [
      "_________________________________________________________________\n",
      "Layer (type)                 Output Shape              Param #   \n",
      "=================================================================\n",
      "conv2d_9 (Conv2D)            (None, 26, 26, 16)        160       \n",
      "_________________________________________________________________\n",
      "activation_9 (Activation)    (None, 26, 26, 16)        0         \n",
      "_________________________________________________________________\n",
      "max_pooling2d_9 (MaxPooling2 (None, 13, 13, 16)        0         \n",
      "_________________________________________________________________\n",
      "conv2d_10 (Conv2D)           (None, 9, 9, 32)          12832     \n",
      "_________________________________________________________________\n",
      "max_pooling2d_10 (MaxPooling (None, 4, 4, 32)          0         \n",
      "_________________________________________________________________\n",
      "flatten_5 (Flatten)          (None, 512)               0         \n",
      "_________________________________________________________________\n",
      "dense_13 (Dense)             (None, 1024)              525312    \n",
      "_________________________________________________________________\n",
      "dense_14 (Dense)             (None, 256)               262400    \n",
      "_________________________________________________________________\n",
      "dense_15 (Dense)             (None, 10)                2570      \n",
      "_________________________________________________________________\n",
      "activation_10 (Activation)   (None, 10)                0         \n",
      "=================================================================\n",
      "Total params: 803,274\n",
      "Trainable params: 803,274\n",
      "Non-trainable params: 0\n",
      "_________________________________________________________________\n"
     ]
    }
   ],
   "source": [
    "model = Sequential()\n",
    "model.add(Conv2D(16, (3,3), input_shape=(28,28,1)))\n",
    "model.add(Activation('relu'))\n",
    "model.add(MaxPool2D((2,2)))\n",
    "model.add(Conv2D(32, (5,5), activation='relu'))\n",
    "model.add(MaxPool2D((2,2)))\n",
    "model.add(Flatten())\n",
    "model.add(Dense(1024, activation='sigmoid'))\n",
    "model.add(Dense(256, activation='tanh'))\n",
    "model.add(Dense(10))\n",
    "model.add(Activation('softmax'))\n",
    "model.summary()"
   ]
  },
  {
   "cell_type": "code",
   "execution_count": 43,
   "metadata": {},
   "outputs": [
    {
     "name": "stdout",
     "output_type": "stream",
     "text": [
      "Train on 48000 samples, validate on 12000 samples\n",
      "Epoch 1/30\n",
      "48000/48000 [==============================] - 37s 767us/step - loss: 0.9337 - acc: 0.6672 - val_loss: 0.5202 - val_acc: 0.8008\n",
      "Epoch 2/30\n",
      "48000/48000 [==============================] - 36s 748us/step - loss: 0.4845 - acc: 0.8185 - val_loss: 0.4396 - val_acc: 0.8368\n",
      "Epoch 3/30\n",
      "48000/48000 [==============================] - 36s 746us/step - loss: 0.4112 - acc: 0.8486 - val_loss: 0.3758 - val_acc: 0.8590\n",
      "Epoch 4/30\n",
      "48000/48000 [==============================] - 35s 738us/step - loss: 0.3643 - acc: 0.8663 - val_loss: 0.3657 - val_acc: 0.8635\n",
      "Epoch 5/30\n",
      "48000/48000 [==============================] - 35s 737us/step - loss: 0.3395 - acc: 0.8753 - val_loss: 0.3515 - val_acc: 0.8714\n",
      "Epoch 6/30\n",
      "48000/48000 [==============================] - 35s 735us/step - loss: 0.3156 - acc: 0.8845 - val_loss: 0.3089 - val_acc: 0.8860\n",
      "Epoch 7/30\n",
      "48000/48000 [==============================] - 36s 742us/step - loss: 0.3047 - acc: 0.8881 - val_loss: 0.2999 - val_acc: 0.8916\n",
      "Epoch 8/30\n",
      "48000/48000 [==============================] - 35s 738us/step - loss: 0.2792 - acc: 0.8975 - val_loss: 0.2959 - val_acc: 0.8907\n",
      "Epoch 9/30\n",
      "48000/48000 [==============================] - 35s 735us/step - loss: 0.2692 - acc: 0.9002 - val_loss: 0.2886 - val_acc: 0.8934\n",
      "Epoch 10/30\n",
      "48000/48000 [==============================] - 35s 732us/step - loss: 0.2581 - acc: 0.9052 - val_loss: 0.3153 - val_acc: 0.8827\n",
      "Epoch 11/30\n",
      "48000/48000 [==============================] - 35s 729us/step - loss: 0.2503 - acc: 0.9077 - val_loss: 0.2669 - val_acc: 0.9063\n",
      "Epoch 12/30\n",
      "48000/48000 [==============================] - 35s 730us/step - loss: 0.2331 - acc: 0.9140 - val_loss: 0.2670 - val_acc: 0.9052\n",
      "Epoch 13/30\n",
      "48000/48000 [==============================] - 35s 728us/step - loss: 0.2270 - acc: 0.9169 - val_loss: 0.2685 - val_acc: 0.9035\n",
      "Epoch 14/30\n",
      "48000/48000 [==============================] - 35s 730us/step - loss: 0.2201 - acc: 0.9181 - val_loss: 0.2696 - val_acc: 0.9029\n",
      "Epoch 15/30\n",
      "48000/48000 [==============================] - 36s 750us/step - loss: 0.2091 - acc: 0.9224 - val_loss: 0.2721 - val_acc: 0.9006\n",
      "Epoch 16/30\n",
      "48000/48000 [==============================] - 35s 730us/step - loss: 0.2070 - acc: 0.9219 - val_loss: 0.2554 - val_acc: 0.9066\n",
      "Epoch 17/30\n",
      "48000/48000 [==============================] - 35s 737us/step - loss: 0.1948 - acc: 0.9267 - val_loss: 0.2501 - val_acc: 0.9112\n",
      "Epoch 18/30\n",
      "48000/48000 [==============================] - 35s 730us/step - loss: 0.1832 - acc: 0.9317 - val_loss: 0.2557 - val_acc: 0.9091\n",
      "Epoch 19/30\n",
      "48000/48000 [==============================] - 35s 725us/step - loss: 0.1787 - acc: 0.9330 - val_loss: 0.2682 - val_acc: 0.9045\n",
      "Epoch 20/30\n",
      "48000/48000 [==============================] - 35s 730us/step - loss: 0.1709 - acc: 0.9360 - val_loss: 0.2637 - val_acc: 0.9085\n",
      "Epoch 21/30\n",
      "48000/48000 [==============================] - 35s 726us/step - loss: 0.1611 - acc: 0.9400 - val_loss: 0.2758 - val_acc: 0.9046\n",
      "Epoch 22/30\n",
      "48000/48000 [==============================] - 35s 726us/step - loss: 0.1545 - acc: 0.9419 - val_loss: 0.2587 - val_acc: 0.9126\n",
      "Epoch 23/30\n",
      "48000/48000 [==============================] - 35s 728us/step - loss: 0.1437 - acc: 0.9459 - val_loss: 0.2911 - val_acc: 0.9035\n",
      "Epoch 24/30\n",
      "48000/48000 [==============================] - 35s 729us/step - loss: 0.1410 - acc: 0.9473 - val_loss: 0.2691 - val_acc: 0.9039\n",
      "Epoch 25/30\n",
      "48000/48000 [==============================] - 35s 726us/step - loss: 0.1320 - acc: 0.9513 - val_loss: 0.2670 - val_acc: 0.9083\n",
      "Epoch 26/30\n",
      "48000/48000 [==============================] - 176s 4ms/step - loss: 0.1247 - acc: 0.9536 - val_loss: 0.2684 - val_acc: 0.9119\n",
      "Epoch 27/30\n",
      "48000/48000 [==============================] - 29s 606us/step - loss: 0.1161 - acc: 0.9571 - val_loss: 0.2861 - val_acc: 0.9080\n",
      "Epoch 28/30\n",
      "48000/48000 [==============================] - 28s 578us/step - loss: 0.1141 - acc: 0.9576 - val_loss: 0.2929 - val_acc: 0.9064\n",
      "Epoch 29/30\n",
      "48000/48000 [==============================] - 28s 581us/step - loss: 0.1046 - acc: 0.9615 - val_loss: 0.2902 - val_acc: 0.9099\n",
      "Epoch 30/30\n",
      "48000/48000 [==============================] - 29s 610us/step - loss: 0.1021 - acc: 0.9620 - val_loss: 0.3140 - val_acc: 0.9081\n"
     ]
    },
    {
     "data": {
      "text/plain": [
       "<keras.callbacks.History at 0x26d82a19438>"
      ]
     },
     "execution_count": 43,
     "metadata": {},
     "output_type": "execute_result"
    }
   ],
   "source": [
    "model.compile(loss='categorical_crossentropy', optimizer='adam', metrics=['accuracy'])\n",
    "model.fit(X_train, y_train,\n",
    "                epochs=30,\n",
    "                batch_size=256,\n",
    "                shuffle=True,\n",
    "                validation_data=(X_test, y_test))"
   ]
  },
  {
   "cell_type": "markdown",
   "metadata": {},
   "source": [
    "### loss and Accuracy"
   ]
  },
  {
   "cell_type": "code",
   "execution_count": 46,
   "metadata": {},
   "outputs": [
    {
     "name": "stdout",
     "output_type": "stream",
     "text": [
      "Test loss: 0.31399243644624947\n",
      "Test accuracy: 0.9080833333333334\n"
     ]
    }
   ],
   "source": [
    "score = model.evaluate(X_test, y_test, verbose=0)\n",
    "print('Test loss:', score[0])\n",
    "print('Test accuracy:', score[1])"
   ]
  },
  {
   "cell_type": "markdown",
   "metadata": {},
   "source": [
    "### Prediction"
   ]
  },
  {
   "cell_type": "code",
   "execution_count": 24,
   "metadata": {},
   "outputs": [],
   "source": [
    "y_test=model.predict(testx)\n",
    "y_test=y_test.argmax(axis=1)\n",
    "pickle.dump(y_test, open(\"testY.pickle\", \"wb\"))"
   ]
  }
 ],
 "metadata": {
  "kernelspec": {
   "display_name": "Python 3",
   "language": "python",
   "name": "python3"
  },
  "language_info": {
   "codemirror_mode": {
    "name": "ipython",
    "version": 3
   },
   "file_extension": ".py",
   "mimetype": "text/x-python",
   "name": "python",
   "nbconvert_exporter": "python",
   "pygments_lexer": "ipython3",
   "version": "3.7.3"
  }
 },
 "nbformat": 4,
 "nbformat_minor": 2
}
